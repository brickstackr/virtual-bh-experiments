{
 "cells": [
  {
   "cell_type": "code",
   "execution_count": 2,
   "id": "58ff313d",
   "metadata": {},
   "outputs": [],
   "source": [
    "import h5py"
   ]
  },
  {
   "cell_type": "code",
   "execution_count": 3,
   "id": "d44a4756",
   "metadata": {},
   "outputs": [],
   "source": [
    "hf_object = h5py.File('Horizons.h5', 'r')"
   ]
  },
  {
   "cell_type": "code",
   "execution_count": 4,
   "id": "e50796d7",
   "metadata": {},
   "outputs": [
    {
     "name": "stdout",
     "output_type": "stream",
     "text": [
      "<KeysViewHDF5 ['AhA.dir', 'AhB.dir', 'AhC.dir']>\n"
     ]
    }
   ],
   "source": [
    "print(hf_object.keys())"
   ]
  },
  {
   "cell_type": "code",
   "execution_count": 9,
   "id": "6fbe59fb",
   "metadata": {},
   "outputs": [
    {
     "name": "stdout",
     "output_type": "stream",
     "text": [
      "<HDF5 group \"/AhA.dir\" (7 members)>\n"
     ]
    }
   ],
   "source": [
    "my_dataset_1 = hf_object.get('AhA.dir')\n",
    "print(my_dataset_1)"
   ]
  },
  {
   "cell_type": "code",
   "execution_count": 14,
   "id": "12df3d3d",
   "metadata": {},
   "outputs": [
    {
     "name": "stdout",
     "output_type": "stream",
     "text": [
      "[<HDF5 group \"/AhA.dir\" (7 members)>]\n"
     ]
    }
   ],
   "source": []
  },
  {
   "cell_type": "code",
   "execution_count": null,
   "id": "0699dc62",
   "metadata": {},
   "outputs": [],
   "source": []
  }
 ],
 "metadata": {
  "kernelspec": {
   "display_name": "Python 3 (ipykernel)",
   "language": "python",
   "name": "python3"
  },
  "language_info": {
   "codemirror_mode": {
    "name": "ipython",
    "version": 3
   },
   "file_extension": ".py",
   "mimetype": "text/x-python",
   "name": "python",
   "nbconvert_exporter": "python",
   "pygments_lexer": "ipython3",
   "version": "3.9.7"
  }
 },
 "nbformat": 4,
 "nbformat_minor": 5
}
