{
 "cells": [
  {
   "cell_type": "code",
   "execution_count": 56,
   "id": "670e66e5",
   "metadata": {},
   "outputs": [],
   "source": [
    "# just adding comments\n",
    "# reviewing version control before an interview \n",
    "import h5py\n",
    "import pandas as pd\n",
    "import numpy as np\n",
    "import matplotlib.pyplot as plt\n",
    "import itertools"
   ]
  },
  {
   "cell_type": "code",
   "execution_count": 57,
   "id": "c6552e2e",
   "metadata": {},
   "outputs": [],
   "source": [
    "hf_object = h5py.File('Horizons.h5', 'r')"
   ]
  },
  {
   "cell_type": "code",
   "execution_count": 58,
   "id": "a3f6f2ba",
   "metadata": {},
   "outputs": [
    {
     "name": "stdout",
     "output_type": "stream",
     "text": [
      "<KeysViewHDF5 ['AhA.dir', 'AhB.dir', 'AhC.dir']>\n"
     ]
    }
   ],
   "source": [
    "print(hf_object.keys())"
   ]
  },
  {
   "cell_type": "code",
   "execution_count": 59,
   "id": "20b91c0c",
   "metadata": {},
   "outputs": [
    {
     "name": "stdout",
     "output_type": "stream",
     "text": [
      "<HDF5 group \"/AhA.dir\" (7 members)>\n"
     ]
    }
   ],
   "source": [
    "my_dataset_1 = hf_object.get('AhA.dir')\n",
    "print(my_dataset_1)"
   ]
  },
  {
   "cell_type": "code",
   "execution_count": 60,
   "id": "80f69b0d",
   "metadata": {},
   "outputs": [
    {
     "name": "stdout",
     "output_type": "stream",
     "text": [
      "<KeysViewHDF5 ['ArealMass.dat', 'ChristodoulouMass.dat', 'CoordCenterInertial.dat', 'DimensionfulInertialSpin.dat', 'DimensionfulInertialSpinMag.dat', 'chiInertial.dat', 'chiMagInertial.dat']>\n"
     ]
    }
   ],
   "source": [
    "print(my_dataset_1.keys())"
   ]
  },
  {
   "cell_type": "code",
   "execution_count": 61,
   "id": "9fc6ce22",
   "metadata": {},
   "outputs": [
    {
     "name": "stdout",
     "output_type": "stream",
     "text": [
      "<HDF5 dataset \"ArealMass.dat\": shape (9622, 2), type \"<f8\">\n"
     ]
    }
   ],
   "source": [
    "data = my_dataset_1.get('ArealMass.dat')\n",
    "print(data)"
   ]
  },
  {
   "cell_type": "code",
   "execution_count": 62,
   "id": "de90180c",
   "metadata": {},
   "outputs": [
    {
     "name": "stdout",
     "output_type": "stream",
     "text": [
      "[[0.00000000e+00 5.00000000e-01]\n",
      " [1.00000000e+00 5.00000005e-01]\n",
      " [2.00000000e+00 5.00000007e-01]\n",
      " ...\n",
      " [9.52300000e+03 5.00413038e-01]\n",
      " [9.52350000e+03 5.00594285e-01]\n",
      " [9.52400000e+03 5.00880749e-01]]\n"
     ]
    }
   ],
   "source": [
    "maybe_plot = np.array(data)\n",
    "print(maybe_plot)"
   ]
  },
  {
   "cell_type": "code",
   "execution_count": 63,
   "id": "0aa6b3f6",
   "metadata": {},
   "outputs": [
    {
     "data": {
      "text/plain": [
       "[<matplotlib.lines.Line2D at 0x7fecac8c6550>]"
      ]
     },
     "execution_count": 63,
     "metadata": {},
     "output_type": "execute_result"
    },
    {
     "data": {
      "image/png": "[encoded data removed]",
      "text/plain": [
       "<Figure size 432x288 with 1 Axes>"
      ]
     },
     "metadata": {
      "needs_background": "light"
     },
     "output_type": "display_data"
    }
   ],
   "source": [
    "plt.plot(maybe_plot[0], maybe_plot[1])"
   ]
  },
  {
   "cell_type": "code",
   "execution_count": 64,
   "id": "8549a56f",
   "metadata": {},
   "outputs": [
    {
     "ename": "TypeError",
     "evalue": "'numpy.float64' object is not iterable",
     "output_type": "error",
     "traceback": [
      "\u001b[0;31m---------------------------------------------------------------------------\u001b[0m",
      "\u001b[0;31mTypeError\u001b[0m                                 Traceback (most recent call last)",
      "\u001b[0;32m/var/folders/8y/wl5wqr7x7md8qrwc6thkftm00000gn/T/ipykernel_40713/1423459332.py\u001b[0m in \u001b[0;36m<module>\u001b[0;34m\u001b[0m\n\u001b[0;32m----> 1\u001b[0;31m \u001b[0munested\u001b[0m \u001b[0;34m=\u001b[0m \u001b[0;34m[\u001b[0m\u001b[0mlist\u001b[0m\u001b[0;34m(\u001b[0m\u001b[0mitertools\u001b[0m\u001b[0;34m.\u001b[0m\u001b[0mchain\u001b[0m\u001b[0;34m(\u001b[0m\u001b[0;34m*\u001b[0m\u001b[0msub\u001b[0m\u001b[0;34m)\u001b[0m\u001b[0;34m)\u001b[0m \u001b[0;32mfor\u001b[0m \u001b[0msub\u001b[0m \u001b[0;32min\u001b[0m \u001b[0mmaybe_plot\u001b[0m\u001b[0;34m]\u001b[0m\u001b[0;34m\u001b[0m\u001b[0;34m\u001b[0m\u001b[0m\n\u001b[0m\u001b[1;32m      2\u001b[0m \u001b[0mprint\u001b[0m\u001b[0;34m(\u001b[0m\u001b[0munested\u001b[0m\u001b[0;34m)\u001b[0m\u001b[0;34m\u001b[0m\u001b[0;34m\u001b[0m\u001b[0m\n",
      "\u001b[0;32m/var/folders/8y/wl5wqr7x7md8qrwc6thkftm00000gn/T/ipykernel_40713/1423459332.py\u001b[0m in \u001b[0;36m<listcomp>\u001b[0;34m(.0)\u001b[0m\n\u001b[0;32m----> 1\u001b[0;31m \u001b[0munested\u001b[0m \u001b[0;34m=\u001b[0m \u001b[0;34m[\u001b[0m\u001b[0mlist\u001b[0m\u001b[0;34m(\u001b[0m\u001b[0mitertools\u001b[0m\u001b[0;34m.\u001b[0m\u001b[0mchain\u001b[0m\u001b[0;34m(\u001b[0m\u001b[0;34m*\u001b[0m\u001b[0msub\u001b[0m\u001b[0;34m)\u001b[0m\u001b[0;34m)\u001b[0m \u001b[0;32mfor\u001b[0m \u001b[0msub\u001b[0m \u001b[0;32min\u001b[0m \u001b[0mmaybe_plot\u001b[0m\u001b[0;34m]\u001b[0m\u001b[0;34m\u001b[0m\u001b[0;34m\u001b[0m\u001b[0m\n\u001b[0m\u001b[1;32m      2\u001b[0m \u001b[0mprint\u001b[0m\u001b[0;34m(\u001b[0m\u001b[0munested\u001b[0m\u001b[0;34m)\u001b[0m\u001b[0;34m\u001b[0m\u001b[0;34m\u001b[0m\u001b[0m\n",
      "\u001b[0;31mTypeError\u001b[0m: 'numpy.float64' object is not iterable"
     ]
    }
   ],
   "source": []
  },
  {
   "cell_type": "code",
   "execution_count": null,
   "id": "7da3be20",
   "metadata": {},
   "outputs": [],
   "source": []
  },
  {
   "cell_type": "code",
   "execution_count": null,
   "id": "5f2c27d3",
   "metadata": {},
   "outputs": [],
   "source": []
  }
 ],
 "metadata": {
  "kernelspec": {
   "display_name": "Python 3 (ipykernel)",
   "language": "python",
   "name": "python3"
  },
  "language_info": {
   "codemirror_mode": {
    "name": "ipython",
    "version": 3
   },
   "file_extension": ".py",
   "mimetype": "text/x-python",
   "name": "python",
   "nbconvert_exporter": "python",
   "pygments_lexer": "ipython3",
   "version": "3.9.7"
  }
 },
 "nbformat": 4,
 "nbformat_minor": 5
}
